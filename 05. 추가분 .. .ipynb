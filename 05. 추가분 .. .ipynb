{
 "cells": [
  {
   "cell_type": "markdown",
   "metadata": {},
   "source": [
    "##  03. 조건문과 반복문 - 07. 조건문, 반복문 연습 문제 풀이"
   ]
  },
  {
   "cell_type": "markdown",
   "metadata": {},
   "source": [
    "1. 구구다을 2 ~ 9단까지 출력하시오. "
   ]
  },
  {
   "cell_type": "code",
   "execution_count": 1,
   "metadata": {},
   "outputs": [
    {
     "name": "stdout",
     "output_type": "stream",
     "text": [
      "2 x 1 = 2\n",
      "2 x 2 = 4\n",
      "2 x 3 = 6\n",
      "2 x 4 = 8\n",
      "2 x 5 = 10\n",
      "2 x 6 = 12\n",
      "2 x 7 = 14\n",
      "2 x 8 = 16\n",
      "2 x 9 = 18\n",
      "3 x 1 = 3\n",
      "3 x 2 = 6\n",
      "3 x 3 = 9\n",
      "3 x 4 = 12\n",
      "3 x 5 = 15\n",
      "3 x 6 = 18\n",
      "3 x 7 = 21\n",
      "3 x 8 = 24\n",
      "3 x 9 = 27\n",
      "4 x 1 = 4\n",
      "4 x 2 = 8\n",
      "4 x 3 = 12\n",
      "4 x 4 = 16\n",
      "4 x 5 = 20\n",
      "4 x 6 = 24\n",
      "4 x 7 = 28\n",
      "4 x 8 = 32\n",
      "4 x 9 = 36\n",
      "5 x 1 = 5\n",
      "5 x 2 = 10\n",
      "5 x 3 = 15\n",
      "5 x 4 = 20\n",
      "5 x 5 = 25\n",
      "5 x 6 = 30\n",
      "5 x 7 = 35\n",
      "5 x 8 = 40\n",
      "5 x 9 = 45\n",
      "6 x 1 = 6\n",
      "6 x 2 = 12\n",
      "6 x 3 = 18\n",
      "6 x 4 = 24\n",
      "6 x 5 = 30\n",
      "6 x 6 = 36\n",
      "6 x 7 = 42\n",
      "6 x 8 = 48\n",
      "6 x 9 = 54\n",
      "7 x 1 = 7\n",
      "7 x 2 = 14\n",
      "7 x 3 = 21\n",
      "7 x 4 = 28\n",
      "7 x 5 = 35\n",
      "7 x 6 = 42\n",
      "7 x 7 = 49\n",
      "7 x 8 = 56\n",
      "7 x 9 = 63\n",
      "8 x 1 = 8\n",
      "8 x 2 = 16\n",
      "8 x 3 = 24\n",
      "8 x 4 = 32\n",
      "8 x 5 = 40\n",
      "8 x 6 = 48\n",
      "8 x 7 = 56\n",
      "8 x 8 = 64\n",
      "8 x 9 = 72\n",
      "9 x 1 = 9\n",
      "9 x 2 = 18\n",
      "9 x 3 = 27\n",
      "9 x 4 = 36\n",
      "9 x 5 = 45\n",
      "9 x 6 = 54\n",
      "9 x 7 = 63\n",
      "9 x 8 = 72\n",
      "9 x 9 = 81\n"
     ]
    }
   ],
   "source": [
    "x = 2\n",
    "while x <= 9:\n",
    "    y = 1\n",
    "    while y<= 9 :\n",
    "        print(x, 'x', y,  '=', x*y)\n",
    "        y+=1\n",
    "    x += 1"
   ]
  },
  {
   "cell_type": "code",
   "execution_count": 4,
   "metadata": {},
   "outputs": [
    {
     "name": "stdout",
     "output_type": "stream",
     "text": [
      "2 4 6 8 10 11 12 14 16 18 20 22 24 26 28 30 32 33 34 36 38 40 42 44 46 48 50 52 54 55 56 58 60 62 64 66 68 70 72 74 76 77 78 80 82 84 86 88 90 92 94 96 98 99 100 "
     ]
    }
   ],
   "source": [
    "nums = list(range(1, 101))\n",
    "for x in nums:\n",
    "    if x % 2 == 0 or x % 11 == 0:\n",
    "        print(x, end=\" \")"
   ]
  },
  {
   "cell_type": "code",
   "execution_count": 10,
   "metadata": {},
   "outputs": [],
   "source": [
    "a = [22, 1, 3, 4, 7, 98, 21, 55, 87, 99, 19, 20 ,45]\n",
    "# a.sort()\n",
    "# a[0], a[-1]"
   ]
  },
  {
   "cell_type": "code",
   "execution_count": 24,
   "metadata": {},
   "outputs": [
    {
     "name": "stdout",
     "output_type": "stream",
     "text": [
      "min_ :  1\n",
      "max_ :  22\n",
      "min_ :  1\n",
      "max_ :  22\n",
      "min_ :  1\n",
      "max_ :  22\n",
      "min_ :  1\n",
      "max_ :  22\n",
      "min_ :  1\n",
      "max_ :  98\n",
      "min_ :  1\n",
      "max_ :  98\n",
      "min_ :  1\n",
      "max_ :  98\n",
      "min_ :  1\n",
      "max_ :  98\n",
      "min_ :  1\n",
      "max_ :  99\n",
      "min_ :  1\n",
      "max_ :  99\n",
      "min_ :  1\n",
      "max_ :  99\n",
      "min_ :  1\n",
      "max_ :  99\n"
     ]
    }
   ],
   "source": [
    "min_ = a[0]\n",
    "max_ = a[0]\n",
    "for i in a[1:]:\n",
    "    if min_ > i:\n",
    "        min_ = i\n",
    "    if max_ < i:\n",
    "        max_ = i\n",
    "    print(\"min_ : \",min_)\n",
    "    print(\"max_ : \",max_)\n",
    "#    print(index, i)"
   ]
  },
  {
   "cell_type": "code",
   "execution_count": 22,
   "metadata": {},
   "outputs": [
    {
     "name": "stdout",
     "output_type": "stream",
     "text": [
      "1\n"
     ]
    }
   ],
   "source": [
    "# 처음 만나는 값을 최솟값으로 가정\n",
    "# 그리고 그 후 숫자를 만날 때마다 현재 최솟값보다 그 숫자가 작으면 최솟값을 그 숫자로 업데이트\n",
    "_min = a[0]\n",
    "for x in a[1:]:\n",
    "    if x<_min:\n",
    "        _min = x\n",
    "print(_min)        "
   ]
  },
  {
   "cell_type": "code",
   "execution_count": 36,
   "metadata": {},
   "outputs": [
    {
     "name": "stdout",
     "output_type": "stream",
     "text": [
      "0\n",
      "<built-in function sum> 0 22\n",
      "1\n",
      "<built-in function sum> 1 1\n",
      "2\n",
      "<built-in function sum> 2 3\n",
      "3\n",
      "<built-in function sum> 3 4\n",
      "4\n",
      "<built-in function sum> 4 7\n",
      "5\n",
      "<built-in function sum> 5 98\n",
      "6\n",
      "<built-in function sum> 6 21\n",
      "7\n",
      "<built-in function sum> 7 55\n",
      "8\n",
      "<built-in function sum> 8 87\n",
      "9\n",
      "<built-in function sum> 9 99\n",
      "10\n",
      "<built-in function sum> 10 19\n",
      "11\n",
      "<built-in function sum> 11 20\n",
      "12\n",
      "<built-in function sum> 12 45\n",
      "37.0\n"
     ]
    }
   ],
   "source": [
    "#4. ...\n",
    "a = [22, 1, 3, 4, 7, 98, 21, 55, 87, 99, 19, 20 ,45]\n",
    "#i = 0\n",
    "_sum = 0\n",
    "k = 0\n",
    "while k < len(a):\n",
    "    print(k)\n",
    "    _sum += a[k]\n",
    "    print(sum, k, a[k])\n",
    "    k += 1\n",
    "\n",
    "print(_sum / len(a))"
   ]
  },
  {
   "cell_type": "code",
   "execution_count": null,
   "metadata": {},
   "outputs": [],
   "source": []
  }
 ],
 "metadata": {
  "kernelspec": {
   "display_name": "Python 3",
   "language": "python",
   "name": "python3"
  },
  "language_info": {
   "codemirror_mode": {
    "name": "ipython",
    "version": 3
   },
   "file_extension": ".py",
   "mimetype": "text/x-python",
   "name": "python",
   "nbconvert_exporter": "python",
   "pygments_lexer": "ipython3",
   "version": "3.7.3"
  }
 },
 "nbformat": 4,
 "nbformat_minor": 2
}
