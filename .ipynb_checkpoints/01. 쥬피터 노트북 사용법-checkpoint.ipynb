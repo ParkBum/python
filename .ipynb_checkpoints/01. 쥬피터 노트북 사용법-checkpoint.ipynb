{
 "cells": [
  {
   "cell_type": "markdown",
   "metadata": {},
   "source": [
    "####  쥬피터 사용 방법중 신기한 것 몇가지가 있어서 기록을 하게 됐다. \n",
    "\n",
    "우선 **마크다운** 형식의 주피터 노트북 사용방법이다. \n",
    " \n",
    "**1. 단축키 Code타입, MarkDown 타입**  \n",
    "  prompt 입력시 Y, M을 눌러주면 됨. \n",
    "\n",
    "**2. 문단 표시 시 - 또는 숫자를 이용하면 됨.**\n",
    "\n",
    "  (같은 level의 문단끼리 색이 변함)\n",
    "\n",
    "\n",
    "- 언어의 종류\n",
    "  - 파이썬  \n",
    "    1. 파이썬의 변수\n",
    "  - 자바\n",
    "  - C\n",
    "  - C++\n",
    "  \n",
    "  \n",
    "**3. 인용문**\n",
    "> 인용문을 사용하려면 > 를 앞에 넣어주세요\n",
    "\n",
    "**4. 수식표현**\n",
    "$y=f(x)$\n",
    "\n",
    "\n",
    "**5. 링크**\n",
    "[구글페이지](https://www.google.com)\n",
    "\n",
    "\n",
    "**6. 마크다운 개행은 두칸 스페이스 후 enter를 해줘야 합니다.** __[enter]\n",
    "\n",
    "**7. 코드**\n",
    "``` python\n",
    "a = 10\n",
    "print(a)\n",
    "```"
   ]
  }
 ],
 "metadata": {
  "kernelspec": {
   "display_name": "Python 3",
   "language": "python",
   "name": "python3"
  },
  "language_info": {
   "codemirror_mode": {
    "name": "ipython",
    "version": 3
   },
   "file_extension": ".py",
   "mimetype": "text/x-python",
   "name": "python",
   "nbconvert_exporter": "python",
   "pygments_lexer": "ipython3",
   "version": "3.7.3"
  }
 },
 "nbformat": 4,
 "nbformat_minor": 2
}
