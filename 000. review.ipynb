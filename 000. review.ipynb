{
 "cells": [
  {
   "cell_type": "markdown",
   "metadata": {},
   "source": [
    "# Review"
   ]
  },
  {
   "cell_type": "markdown",
   "metadata": {},
   "source": [
    "## List"
   ]
  },
  {
   "cell_type": "code",
   "execution_count": 54,
   "metadata": {},
   "outputs": [
    {
     "name": "stdout",
     "output_type": "stream",
     "text": [
      "['삶', '은', ' ', '달', '걀', '이', '다', '.', ' ']\n"
     ]
    }
   ],
   "source": [
    "sen = '삶은 달걀이다. '\n",
    "\n",
    "#list화 하기 \n",
    "S = list(sen)\n",
    "print(S)"
   ]
  },
  {
   "cell_type": "code",
   "execution_count": 55,
   "metadata": {},
   "outputs": [
    {
     "name": "stdout",
     "output_type": "stream",
     "text": [
      "삶은 감자이다. \n"
     ]
    }
   ],
   "source": [
    "#달걀을 감자로 변경 \n",
    "gam = '감자'\n",
    "sen = sen[:3] + gam + sen[5:]\n",
    "print(sen)"
   ]
  },
  {
   "cell_type": "code",
   "execution_count": 56,
   "metadata": {},
   "outputs": [
    {
     "data": {
      "text/plain": [
       "'삶은 감자이다. '"
      ]
     },
     "execution_count": 56,
     "metadata": {},
     "output_type": "execute_result"
    }
   ],
   "source": [
    "sen.replace('달걀','감자')"
   ]
  },
  {
   "cell_type": "code",
   "execution_count": 57,
   "metadata": {},
   "outputs": [
    {
     "name": "stdout",
     "output_type": "stream",
     "text": [
      "a[1:9:2]:  [2, 4, 6, 8]\n",
      "k :  None\n",
      "a :  [1, 2, 3, 4, 5, 6, 7, 8, 9, 10, 11]\n",
      "a :  [1, 2, 3, 4, 5, 6, 7, 8, 9, 10, 11, 4]\n",
      "b.pop() : 3\n",
      "b :  [5, 3, 2, 4, 21, 4, 21, 42]\n",
      "b.pop(5) : 4\n",
      "b :  [5, 3, 2, 4, 21, 21, 42]\n",
      "b :  [5, 3, 2, 4, 21, 42]\n"
     ]
    }
   ],
   "source": [
    "#리스트 함수 기능 사용하기\n",
    "a = [1,2,3,4,5,6,7,8,9,10]\n",
    "b = [5,3,2,4,21,4,21,42,3]\n",
    "print(\"a[1:9:2]: \",a[1:9:2]) #increment\n",
    "\n",
    "#값 추가하기 \n",
    "k = a.append(11) #값을 반환하지 않습니다. \n",
    "print(\"k : \",k)\n",
    "print(\"a : \",a)\n",
    "a.insert(11,4)\n",
    "print(\"a : \",a)\n",
    "\n",
    "#값 제거하기 \n",
    "print(\"b.pop() :\",b.pop())\n",
    "print(\"b : \",b)\n",
    "print(\"b.pop(5) :\",b.pop(5)) #인덱스를 입력\n",
    "print(\"b : \",b)\n",
    "b.remove(21)\n",
    "print(\"b : \",b)"
   ]
  },
  {
   "cell_type": "code",
   "execution_count": 58,
   "metadata": {},
   "outputs": [
    {
     "name": "stdout",
     "output_type": "stream",
     "text": [
      "[1, 2, 3, 4, 5, 6, 7, 8, 9, 10, 11, 4]\n",
      "[5, 3, 2, 4, 21, 42]\n"
     ]
    }
   ],
   "source": [
    "# list끼리 합치기\n",
    "print(a)\n",
    "print(b)\n",
    "a.extend(b)"
   ]
  },
  {
   "cell_type": "code",
   "execution_count": 59,
   "metadata": {},
   "outputs": [
    {
     "name": "stdout",
     "output_type": "stream",
     "text": [
      "[1, 2, 3, 4, 5, 6, 7, 8, 9, 10, 11, 4, 5, 3, 2, 4, 21, 42, 5, 3, 2, 4, 21, 42]\n"
     ]
    }
   ],
   "source": [
    "a += b\n",
    "print(a)"
   ]
  },
  {
   "cell_type": "code",
   "execution_count": 60,
   "metadata": {},
   "outputs": [
    {
     "name": "stdout",
     "output_type": "stream",
     "text": [
      "[1, 2, 3, 4, 5, 6, 7, 8, 9, 10, 11, 4, 5, 3, 2, 4, 21, 42, 5, 3, 2, 4, 21, 42]\n"
     ]
    },
    {
     "data": {
      "text/plain": [
       "12"
      ]
     },
     "execution_count": 60,
     "metadata": {},
     "output_type": "execute_result"
    }
   ],
   "source": [
    "#값 찾기\n",
    "print(a)\n",
    "a.index(5, 5, 15)"
   ]
  },
  {
   "cell_type": "code",
   "execution_count": 74,
   "metadata": {},
   "outputs": [
    {
     "name": "stdout",
     "output_type": "stream",
     "text": [
      "[1, 2, 2, 2, 3, 3, 3, 4, 4, 4, 4, 5, 5, 5, 6, 7, 8, 9, 10, 11, 21, 21, 42, 42]\n",
      "[42, 42, 21, 21, 11, 10, 9, 8, 7, 6, 5, 5, 5, 4, 4, 4, 4, 3, 3, 3, 2, 2, 2, 1]\n"
     ]
    },
    {
     "data": {
      "text/plain": [
       "[42, 42, 21, 21, 11, 10, 9, 8, 7, 6, 5, 5, 5, 4, 4, 4, 4, 3, 3, 3, 2, 2, 2, 1]"
      ]
     },
     "execution_count": 74,
     "metadata": {},
     "output_type": "execute_result"
    }
   ],
   "source": [
    "#리스트 정렬시키기\n",
    "a.sort()\n",
    "print(a)\n",
    "a\n",
    "a.reverse()\n",
    "print(a)\n",
    "\n",
    "sorted(a, reverse=True)"
   ]
  },
  {
   "cell_type": "markdown",
   "metadata": {},
   "source": [
    "# Mission\n",
    "### list의 값 추가 , 삭제\n",
    "### tuple의 값 추가, 삭제\n",
    "### dict의 값 추가, 삭제\n",
    "### set의 값 추가, 삭제\n",
    "\n",
    "### list 값 변환, list화, list sort\n",
    "### tuple의 unpacking\n",
    "### dict의 합병, , 키값만, value값만, 키와 value다 출력\n",
    "### set의 관계 출력(합,차,부분,교집합)"
   ]
  },
  {
   "cell_type": "code",
   "execution_count": null,
   "metadata": {},
   "outputs": [],
   "source": []
  }
 ],
 "metadata": {
  "kernelspec": {
   "display_name": "Python 3",
   "language": "python",
   "name": "python3"
  },
  "language_info": {
   "codemirror_mode": {
    "name": "ipython",
    "version": 3
   },
   "file_extension": ".py",
   "mimetype": "text/x-python",
   "name": "python",
   "nbconvert_exporter": "python",
   "pygments_lexer": "ipython3",
   "version": "3.7.3"
  }
 },
 "nbformat": 4,
 "nbformat_minor": 2
}
