{
 "cells": [
  {
   "cell_type": "markdown",
   "metadata": {},
   "source": [
    "## 12. 조건문과 반복문 - 01. 조건문(if, elif, else)활용하기"
   ]
  },
  {
   "cell_type": "code",
   "execution_count": 1,
   "metadata": {},
   "outputs": [
    {
     "name": "stdout",
     "output_type": "stream",
     "text": [
      "6 is greater than 5\n",
      "Yeah, it is true\n",
      "This code is not belongs to if statements\n"
     ]
    }
   ],
   "source": [
    "if 6 >= 5:\n",
    "    print('6 is greater than 5')\n",
    "    print('Yeah, it is true')\n",
    "print('This code is not belongs to if statements')"
   ]
  },
  {
   "cell_type": "code",
   "execution_count": 3,
   "metadata": {},
   "outputs": [
    {
     "name": "stdout",
     "output_type": "stream",
     "text": [
      "This code is not belongs to if statements\n"
     ]
    }
   ],
   "source": [
    "if 6 == 5:\n",
    "    print('6 is greater than 5')\n",
    "    print('Yeah, it is true')\n",
    "    \n",
    "print('This code is not belongs to if statements')"
   ]
  },
  {
   "cell_type": "markdown",
   "metadata": {},
   "source": [
    "#### Logical AND, OR, NOT\n",
    "* 조건문에 사용도는 조건의 경우, <br> BOOLEAN이기 때문에, 논리식 AND, OR, NOT이 사용가능\n",
    "* 우선순위\n",
    "   * NOT > AND > OR"
   ]
  },
  {
   "cell_type": "markdown",
   "metadata": {},
   "source": [
    "> example"
   ]
  },
  {
   "cell_type": "code",
   "execution_count": 4,
   "metadata": {},
   "outputs": [],
   "source": [
    "a = 10\n",
    "b = 8\n",
    "c = 11"
   ]
  },
  {
   "cell_type": "code",
   "execution_count": 10,
   "metadata": {},
   "outputs": [],
   "source": [
    "# And, or, not의 우선순위\n",
    "# if a == 10 and b == 9 :\n",
    "# if a == 10 or b == 9 :\n",
    "if (a == 10 or b == 9) and c==12:\n",
    "#if a == 10 and b == 9 or c==12:\n",
    "    print('that is true')"
   ]
  },
  {
   "cell_type": "markdown",
   "metadata": {},
   "source": [
    "### if\n",
    "* if의 경우 조건문에서 bool이 위치하게 된다. <br> 하지만 정수, 실수, 문자열 리스트 등 기본 타입도 조건에 사용이 가능하다.<br> 예를들어,,,\n",
    "```python\n",
    "if 3:\n",
    "    print(33333)\n",
    "if hello:\n",
    "    print('good~')\n",
    "```\n",
    "지금 이 모든 식은 결과갑이 나오게 된다. \n",
    "\n",
    "**파이썬에서는 <br>\n",
    "False로 간주되는 값들이 있는데 (각 타입의 기본값)**\n",
    "* None\n",
    "* 0\n",
    "* 0.0\n",
    "* ''\n",
    "* []\n",
    "* ()\n",
    "* {}\n",
    "* set()\n",
    "\n",
    "++ 그 밖에는 모두 True! ++"
   ]
  },
  {
   "cell_type": "markdown",
   "metadata": {},
   "source": [
    "## 13. 조건문과 반복문 - 02. 조건문(if, elif, else)활용하기"
   ]
  },
  {
   "cell_type": "markdown",
   "metadata": {},
   "source": [
    "### if, elif, else 문"
   ]
  },
  {
   "cell_type": "markdown",
   "metadata": {},
   "source": [
    "## 14. 조건문과 반복문 - 03. 반복문(while)-1"
   ]
  },
  {
   "cell_type": "markdown",
   "metadata": {},
   "source": [
    "* 특정한 경우에 빠져 나가기 위해서는 **break**<br>  \n",
    "* 특정한 경우 코드 수행하지 않고 다음으로 건너띄고 사용하는 경우 **continue**"
   ]
  },
  {
   "cell_type": "markdown",
   "metadata": {},
   "source": [
    "#### 1 ~ 100까지 더하기"
   ]
  },
  {
   "cell_type": "code",
   "execution_count": 9,
   "metadata": {},
   "outputs": [
    {
     "name": "stdout",
     "output_type": "stream",
     "text": [
      "1 2\n",
      "3 3\n",
      "6 4\n",
      "10 5\n",
      "15 6\n",
      "21 7\n",
      "28 8\n",
      "36 9\n",
      "45 10\n",
      "55 11\n",
      "66 12\n",
      "78 13\n",
      "91 14\n",
      "105 15\n",
      "120 16\n",
      "136 17\n",
      "153 18\n",
      "171 19\n",
      "190 20\n",
      "210 21\n",
      "231 22\n",
      "253 23\n",
      "276 24\n",
      "300 25\n",
      "325 26\n",
      "351 27\n",
      "378 28\n",
      "406 29\n",
      "435 30\n",
      "465 31\n",
      "496 32\n",
      "528 33\n",
      "561 34\n",
      "595 35\n",
      "630 36\n",
      "666 37\n",
      "703 38\n",
      "741 39\n",
      "780 40\n",
      "820 41\n",
      "861 42\n",
      "903 43\n",
      "946 44\n",
      "990 45\n",
      "1035 46\n",
      "1081 47\n",
      "1128 48\n",
      "1176 49\n",
      "1225 50\n",
      "1275 51\n",
      "1326 52\n",
      "1378 53\n",
      "1431 54\n",
      "1485 55\n",
      "1540 56\n",
      "1596 57\n",
      "1653 58\n",
      "1711 59\n",
      "1770 60\n",
      "1830 61\n",
      "1891 62\n",
      "1953 63\n",
      "2016 64\n",
      "2080 65\n",
      "2145 66\n",
      "2211 67\n",
      "2278 68\n",
      "2346 69\n",
      "2415 70\n",
      "2485 71\n",
      "2556 72\n",
      "2628 73\n",
      "2701 74\n",
      "2775 75\n",
      "2850 76\n",
      "2926 77\n",
      "3003 78\n",
      "3081 79\n",
      "3160 80\n",
      "3240 81\n",
      "3321 82\n",
      "3403 83\n",
      "3486 84\n",
      "3570 85\n",
      "3655 86\n",
      "3741 87\n",
      "3828 88\n",
      "3916 89\n",
      "4005 90\n",
      "4095 91\n",
      "4186 92\n",
      "4278 93\n",
      "4371 94\n",
      "4465 95\n",
      "4560 96\n",
      "4656 97\n",
      "4753 98\n",
      "4851 99\n",
      "4950 100\n",
      "5050 101\n"
     ]
    }
   ],
   "source": [
    "num = 1\n",
    "_sum = 0\n",
    "while num<101:\n",
    "    _sum += num\n",
    "    num += 1\n",
    "    print(_sum, num)\n"
   ]
  },
  {
   "cell_type": "markdown",
   "metadata": {},
   "source": [
    "## 조건문과 반복문 - 06. 반복문 이해하기(for), 연습문제 - 2"
   ]
  },
  {
   "cell_type": "markdown",
   "metadata": {},
   "source": [
    "**강사님 풀이**"
   ]
  },
  {
   "cell_type": "code",
   "execution_count": null,
   "metadata": {},
   "outputs": [],
   "source": []
  }
 ],
 "metadata": {
  "kernelspec": {
   "display_name": "Python 3",
   "language": "python",
   "name": "python3"
  },
  "language_info": {
   "codemirror_mode": {
    "name": "ipython",
    "version": 3
   },
   "file_extension": ".py",
   "mimetype": "text/x-python",
   "name": "python",
   "nbconvert_exporter": "python",
   "pygments_lexer": "ipython3",
   "version": "3.7.3"
  }
 },
 "nbformat": 4,
 "nbformat_minor": 2
}
