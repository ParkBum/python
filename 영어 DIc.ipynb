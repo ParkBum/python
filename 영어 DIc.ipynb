{
 "cells": [
  {
   "cell_type": "markdown",
   "metadata": {},
   "source": [
    "## 영어사전\n",
    "|<center>단어</center>|<center>뜻</center>|<center>설명</center>|<center>example</center>|\n",
    "|:---:|:---:|:---:|:---:|\n",
    "|`assignment`|<span style=\"color:blue\">할당, 양도</span>|-|**'tuple' object does not support item assignment**|\n",
    "|`union`|합집합|-||\n",
    "|`intersection`|교집합|-||\n",
    "|`difference`|차집합|-||\n",
    "|`subset`|부분집합|set함수중에 issubset()함수가 존재||"
   ]
  }
 ],
 "metadata": {
  "kernelspec": {
   "display_name": "Python 3",
   "language": "python",
   "name": "python3"
  },
  "language_info": {
   "codemirror_mode": {
    "name": "ipython",
    "version": 3
   },
   "file_extension": ".py",
   "mimetype": "text/x-python",
   "name": "python",
   "nbconvert_exporter": "python",
   "pygments_lexer": "ipython3",
   "version": "3.7.3"
  }
 },
 "nbformat": 4,
 "nbformat_minor": 2
}
