{
 "cells": [
  {
   "cell_type": "markdown",
   "metadata": {},
   "source": [
    "#### 표 그리는 방법"
   ]
  },
  {
   "cell_type": "markdown",
   "metadata": {},
   "source": [
    "|V1|V2|V3|V4|\n",
    "|---|---|---|---|\n",
    "|1|2|3|4|\n",
    "|6|7|8|9|"
   ]
  },
  {
   "cell_type": "markdown",
   "metadata": {},
   "source": [
    "#### 가운데 정렬 해보기"
   ]
  },
  {
   "cell_type": "markdown",
   "metadata": {},
   "source": [
    "**<center>이게 가운데 정렬이다 마!<center>**"
   ]
  },
  {
   "cell_type": "markdown",
   "metadata": {},
   "source": [
    "#### 개행 또다른 방법\n",
    "이게 개행이다 마!<br>\n",
    "개행이다 마!<br>\n",
    "개행 쉽다!"
   ]
  },
  {
   "cell_type": "markdown",
   "metadata": {},
   "source": [
    "#### 띄어쓰기\n",
    "　이거나<br>\n",
    "&nbsp;이것도 가능\n",
    "* ㄱ->한자->1\n",
    "* &nbsp ;"
   ]
  },
  {
   "cell_type": "markdown",
   "metadata": {},
   "source": [
    "> <q> 어떠냐 </q>"
   ]
  },
  {
   "cell_type": "markdown",
   "metadata": {},
   "source": [
    "#### 다양한 글자 효과"
   ]
  },
  {
   "cell_type": "markdown",
   "metadata": {},
   "source": [
    "**굵음** <br>\n",
    "*기울임* <br>\n",
    "++밑줄++  <br>\n",
    "~~취소선~~ <br>\n",
    "`음영`<br>"
   ]
  },
  {
   "cell_type": "markdown",
   "metadata": {},
   "source": [
    "#### 이미지& 동영상 퍼오는 방법\n",
    "* ![aj7avHr.png] 이부분은 맨마지막 이미지 이름\n",
    "![aj7avHr.png](https://steemitimages.com/DQmeJtzV9qiNUoeNVoKtjjttuZnfcQzhMwYZLe7WBUi59j1/aj7avHr.png)\n",
    "* 동영상은 그냥 링크 입력해주면 됨(괄호 X)"
   ]
  },
  {
   "cell_type": "markdown",
   "metadata": {},
   "source": [
    "#### 구분선 \n",
    "-------------\n"
   ]
  },
  {
   "cell_type": "markdown",
   "metadata": {},
   "source": [
    "#### 마크다운 그대로 표현 \n",
    "\\*그래도 표현해 봐요*"
   ]
  },
  {
   "cell_type": "markdown",
   "metadata": {},
   "source": [
    "[logo]: http://www.gstatic.com/webp/gallery/2.jpg \"To go kayaking.\""
   ]
  },
  {
   "cell_type": "code",
   "execution_count": 2,
   "metadata": {},
   "outputs": [
    {
     "name": "stderr",
     "output_type": "stream",
     "text": [
      "'[Kayak][logo]'은(는) 내부 또는 외부 명령, 실행할 수 있는 프로그램, 또는\n",
      "배치 파일이 아닙니다.\n"
     ]
    }
   ],
   "source": [
    "![Kayak][logo]"
   ]
  },
  {
   "cell_type": "markdown",
   "metadata": {},
   "source": [
    "![logo]: http://www.gstatic.com/webp/gallery/2.jpg \"hello\""
   ]
  },
  {
   "cell_type": "code",
   "execution_count": null,
   "metadata": {},
   "outputs": [],
   "source": []
  }
 ],
 "metadata": {
  "kernelspec": {
   "display_name": "Python 3",
   "language": "python",
   "name": "python3"
  },
  "language_info": {
   "codemirror_mode": {
    "name": "ipython",
    "version": 3
   },
   "file_extension": ".py",
   "mimetype": "text/x-python",
   "name": "python",
   "nbconvert_exporter": "python",
   "pygments_lexer": "ipython3",
   "version": "3.7.3"
  }
 },
 "nbformat": 4,
 "nbformat_minor": 2
}
