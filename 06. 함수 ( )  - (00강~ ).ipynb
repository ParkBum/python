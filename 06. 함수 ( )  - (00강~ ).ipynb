{
 "cells": [
  {
   "cell_type": "markdown",
   "metadata": {},
   "source": [
    "# 함수?\n",
    "* 함수란 우리가 알고있는 개념처럼 주어진 입력에서 출력을 전달하는 것입니다. "
   ]
  },
  {
   "cell_type": "markdown",
   "metadata": {},
   "source": [
    ">**range함수, sum함수, len함수**"
   ]
  },
  {
   "cell_type": "code",
   "execution_count": 7,
   "metadata": {},
   "outputs": [
    {
     "name": "stdout",
     "output_type": "stream",
     "text": [
      "len(a) : 7\n",
      "sum(a) : 33\n"
     ]
    }
   ],
   "source": [
    "# 내장 함수의 예\n",
    "a = [2,3,4,5,6,6,7]\n",
    "len(a)\n",
    "print(\"len(a) :\", len(a))\n",
    "print(\"sum(a) :\", sum(a))"
   ]
  },
  {
   "cell_type": "markdown",
   "metadata": {},
   "source": [
    "### 함수의 정의\n",
    "1. 정의시 최초에 **def키워드 사용**\n",
    "2. **argument정의**(함수에 입력으로 전달하는 값을 의미, argument or parameter라고 함)\n",
    "3. :(콜론) -> 코드블록이기 때문에 필요 \n",
    "4. **body**\n",
    "    * 함수를 호출한 코드(caller)로 함수가 해당 기능을 수행하고 완료된 값(output)을 전달하기 위해 return키워드 사용 \n",
    "    * 즉, return 이후에 오는 값을 caller로 전달 \n",
    "5. **함수의네이밍** 중요 !\n",
    "    * 어떤 기능을 하는 함수인지 이름으로 최대한 나타날 수 있게 해야함. \n",
    "   "
   ]
  },
  {
   "cell_type": "code",
   "execution_count": 8,
   "metadata": {},
   "outputs": [],
   "source": [
    "def add(x, y):\n",
    "    n = x + y\n",
    "    return n "
   ]
  },
  {
   "cell_type": "code",
   "execution_count": 10,
   "metadata": {},
   "outputs": [
    {
     "data": {
      "text/plain": [
       "50"
      ]
     },
     "execution_count": 10,
     "metadata": {},
     "output_type": "execute_result"
    }
   ],
   "source": [
    "c = add(20, 30)\n",
    "c"
   ]
  },
  {
   "cell_type": "markdown",
   "metadata": {},
   "source": [
    "### 함수의 사용(호출)\n",
    "* 함수의 이름과 전달되는 인자(parameter)를 괄호안에 전달하여 함수를 호출 \n",
    "* 함수가 호출되면 실행의 흐름이 호출자(caller)에서 함수(callee)로 변경됨. "
   ]
  },
  {
   "cell_type": "markdown",
   "metadata": {},
   "source": [
    "### 함수의 네이밍(naming)\n",
    "* 함수 이름으로부터 기능이 명시\n",
    "* 의미와 반대되거나 맞지 않는 이름은 사용금지"
   ]
  },
  {
   "cell_type": "markdown",
   "metadata": {},
   "source": [
    "### parameter(인자)\n",
    "* 입력이 필요하지 않을 수도, 여러개가 존재할 수도 있음. \n",
    "* 파라미터로 어떤 객체도 전달 가능(int, string, float, boolm, list, dict)\n",
    "* python의 경우, 타입명시가 없음. 함수 생성시, 의도된 파라미터의 타입에 맞게 입력을 전달하는 것이 중요 !\n",
    "* 파라미터를 전달할 때, 정의된 순서에 따라 값을 전달하는 것이 중요 "
   ]
  },
  {
   "cell_type": "code",
   "execution_count": 16,
   "metadata": {},
   "outputs": [],
   "source": [
    "def test(x, y):\n",
    "    print(x, y)\n",
    "    n = x - y\n",
    "    return n"
   ]
  },
  {
   "cell_type": "code",
   "execution_count": 18,
   "metadata": {},
   "outputs": [
    {
     "name": "stdout",
     "output_type": "stream",
     "text": [
      "1 2\n",
      "-1\n",
      "hello me\n"
     ]
    },
    {
     "ename": "TypeError",
     "evalue": "unsupported operand type(s) for -: 'str' and 'str'",
     "output_type": "error",
     "traceback": [
      "\u001b[1;31m---------------------------------------------------------------------------\u001b[0m",
      "\u001b[1;31mTypeError\u001b[0m                                 Traceback (most recent call last)",
      "\u001b[1;32m<ipython-input-18-a32e83f96c6d>\u001b[0m in \u001b[0;36m<module>\u001b[1;34m\u001b[0m\n\u001b[0;32m      1\u001b[0m \u001b[0mresult\u001b[0m \u001b[1;33m=\u001b[0m \u001b[0mtest\u001b[0m\u001b[1;33m(\u001b[0m\u001b[1;36m1\u001b[0m\u001b[1;33m,\u001b[0m\u001b[1;36m2\u001b[0m\u001b[1;33m)\u001b[0m\u001b[1;33m\u001b[0m\u001b[1;33m\u001b[0m\u001b[0m\n\u001b[0;32m      2\u001b[0m \u001b[0mprint\u001b[0m\u001b[1;33m(\u001b[0m\u001b[0mresult\u001b[0m\u001b[1;33m)\u001b[0m\u001b[1;33m\u001b[0m\u001b[1;33m\u001b[0m\u001b[0m\n\u001b[1;32m----> 3\u001b[1;33m \u001b[0mresult2\u001b[0m \u001b[1;33m=\u001b[0m \u001b[0mtest\u001b[0m\u001b[1;33m(\u001b[0m\u001b[1;34m'hello'\u001b[0m\u001b[1;33m,\u001b[0m\u001b[1;34m'me'\u001b[0m\u001b[1;33m)\u001b[0m \u001b[1;31m# 타입을 조심해야 함.\u001b[0m\u001b[1;33m\u001b[0m\u001b[1;33m\u001b[0m\u001b[0m\n\u001b[0m\u001b[0;32m      4\u001b[0m \u001b[0mprint\u001b[0m\u001b[1;33m(\u001b[0m\u001b[0mresult2\u001b[0m\u001b[1;33m)\u001b[0m\u001b[1;33m\u001b[0m\u001b[1;33m\u001b[0m\u001b[0m\n",
      "\u001b[1;32m<ipython-input-16-9b76bc310894>\u001b[0m in \u001b[0;36mtest\u001b[1;34m(x, y)\u001b[0m\n\u001b[0;32m      1\u001b[0m \u001b[1;32mdef\u001b[0m \u001b[0mtest\u001b[0m\u001b[1;33m(\u001b[0m\u001b[0mx\u001b[0m\u001b[1;33m,\u001b[0m \u001b[0my\u001b[0m\u001b[1;33m)\u001b[0m\u001b[1;33m:\u001b[0m\u001b[1;33m\u001b[0m\u001b[1;33m\u001b[0m\u001b[0m\n\u001b[0;32m      2\u001b[0m     \u001b[0mprint\u001b[0m\u001b[1;33m(\u001b[0m\u001b[0mx\u001b[0m\u001b[1;33m,\u001b[0m \u001b[0my\u001b[0m\u001b[1;33m)\u001b[0m\u001b[1;33m\u001b[0m\u001b[1;33m\u001b[0m\u001b[0m\n\u001b[1;32m----> 3\u001b[1;33m     \u001b[0mn\u001b[0m \u001b[1;33m=\u001b[0m \u001b[0mx\u001b[0m \u001b[1;33m-\u001b[0m \u001b[0my\u001b[0m\u001b[1;33m\u001b[0m\u001b[1;33m\u001b[0m\u001b[0m\n\u001b[0m\u001b[0;32m      4\u001b[0m     \u001b[1;32mreturn\u001b[0m \u001b[0mn\u001b[0m\u001b[1;33m\u001b[0m\u001b[1;33m\u001b[0m\u001b[0m\n",
      "\u001b[1;31mTypeError\u001b[0m: unsupported operand type(s) for -: 'str' and 'str'"
     ]
    }
   ],
   "source": [
    "result = test(1,2)\n",
    "print(result)\n",
    "result2 = test('hello','me') # 타입을 조심해야 함. \n",
    "print(result2)"
   ]
  },
  {
   "cell_type": "markdown",
   "metadata": {},
   "source": [
    "### Default parameter(기본 인자)\n",
    "* 함수의 파라미터에 기본값 지정 가능\n",
    "* 파라미터를 명시하지 않을 경우, 지정된 기본값으로 대체"
   ]
  },
  {
   "cell_type": "code",
   "execution_count": 22,
   "metadata": {},
   "outputs": [
    {
     "data": {
      "text/plain": [
       "33"
      ]
     },
     "execution_count": 22,
     "metadata": {},
     "output_type": "execute_result"
    }
   ],
   "source": [
    "def add(x, y, z=5): # 기본 파라미터 존재\n",
    "    a = x+ y + z\n",
    "    return a\n",
    "add(10, 20, 3) #기본 파라미터가 존재하더라도 값이 입력이 되면 입력된 값이 반영됨"
   ]
  },
  {
   "cell_type": "markdown",
   "metadata": {},
   "source": [
    "### Default parameter 사용시 주의 점\n",
    "* 디폴트 파라미터 뒤에 일반 파라미터가 위치할 수 없음 \n",
    "* 올바른 예\n",
    "\n",
    ">def test(a, b, c=1)\n",
    "\n",
    ">def test(a, b=1, c=1)\n",
    "\n",
    ">def test(a=1, b=1, c=1)\n",
    "\n",
    "* 올바르지 않은 예\n",
    "\n",
    "> def test(a, b=1, c)\n",
    "\n",
    "> def test(a=1, b, c)\n",
    "\n",
    "> def test(a=1, b=2, c)"
   ]
  },
  {
   "cell_type": "markdown",
   "metadata": {},
   "source": [
    "### return"
   ]
  },
  {
   "cell_type": "markdown",
   "metadata": {},
   "source": [
    "* 기본적으로 함수의 종료를 명시\n",
    "    * retrun옆에 값이나 수식이 있다면 해당 값을 호출자(caller)에게 반환(전달)\n",
    "    * retrun만 존재하면 None반환\n",
    "    * return이 없는 경우, 기본적으로 함수 코드 부ㅡㄹ록이 종료되면 종료로 간주. 이때도 None 반환"
   ]
  },
  {
   "cell_type": "code",
   "execution_count": 1,
   "metadata": {},
   "outputs": [
    {
     "data": {
      "text/plain": [
       "15"
      ]
     },
     "execution_count": 1,
     "metadata": {},
     "output_type": "execute_result"
    }
   ],
   "source": [
    "def weird_multiply(x, y):\n",
    "    if x > 10:\n",
    "        return x * y \n",
    "\n",
    "# 여기에서 함수가 종료되고 아래는 실행이 안됩니다.\n",
    "    \n",
    "    return (x + 2) * y\n",
    "    x + y\n",
    "weird_multiply(1, 5)"
   ]
  },
  {
   "cell_type": "markdown",
   "metadata": {},
   "source": [
    "### multiple return(복수 값 반환)\n",
    "* tuple반환을 하여 복수개의 값 리턴"
   ]
  },
  {
   "cell_type": "code",
   "execution_count": 7,
   "metadata": {},
   "outputs": [
    {
     "name": "stdout",
     "output_type": "stream",
     "text": [
      "<class 'tuple'>\n",
      "(23, 60)\n",
      "15 50\n"
     ]
    }
   ],
   "source": [
    "def add_mul(x, y):\n",
    "    s = x + y\n",
    "    m = x * y\n",
    "    return s, m\n",
    "\n",
    "c = add_mul(20, 3)\n",
    "k, d = add_mul(10, 5)\n",
    "print(type(c))\n",
    "print(c)\n",
    "print(k, d)"
   ]
  },
  {
   "cell_type": "markdown",
   "metadata": {},
   "source": [
    "##  함수 이해 및 활용 - 03. 함수의 이해 및 활용, 기본 파라미터, 키워드 파라미터 이해, 변수의 스코프 이해 - 3"
   ]
  },
  {
   "cell_type": "markdown",
   "metadata": {},
   "source": [
    "### variable scope(변수의 범위)\n",
    "   * 변수가 참조 가능한 코드상의 범위를 명시\n",
    "   * 함수내의 변수는 자신이 속한 코드 블록이 종료되면 소멸됨.\n",
    "   * **특정 코드 불록에서 선언된 변수**를 **지역변수(local variable)** 이라고 함. \n",
    "   * 가장 상단에서 정의되어 **프로그램 종료 전까지 유지되는 변수를 전역변수(global variable)**이라고 함. \n",
    "   * 같은 이름의 지역변수와 전역변수가 존재할 경우, 지역변수의 **우선순위가** 더 높음"
   ]
  },
  {
   "cell_type": "code",
   "execution_count": 9,
   "metadata": {},
   "outputs": [
    {
     "name": "stdout",
     "output_type": "stream",
     "text": [
      "30 40\n",
      "10 20\n"
     ]
    }
   ],
   "source": [
    "num1 = 10\n",
    "num2 = 20\n",
    "def test(num1, num2) :\n",
    "    print(num1, num2)\n",
    "    return num1 + num2\n",
    "test(30,40)\n",
    "print(num1, num2)\n",
    "# 함수 외에 있는 변수와 내에 있는 변수는 \n",
    "# 각자 속한 코드 블록이 다름. => 다른 변수라는 것을 알 수 있음."
   ]
  },
  {
   "cell_type": "markdown",
   "metadata": {},
   "source": [
    "### variable length argument(가변길이 인자)\n",
    "* 전달되는 파라미터의 개수가 고정적이지 않은 경우 사용\n",
    "* e.g) \n",
    "   * print 함수\n",
    "   * format 함수\n",
    "   > __*args__, __**kwargs__\n",
    "   \n",
    "   > __*args :__ 파라미터를 튜플의 형태로 전달\n",
    "   \n",
    "   > __**kwargs :__ 파라미터를 딕셔너리 형태로 전달(네임드 파라미터)\n",
    "   \n",
    "기존의 방식에서는 정해진 갯수의 파라미터만 받았다.  \n",
    "하지만 print 함수같은 경우, 파라미터를 동적으로 받을 수 있다.\n",
    "```python\n",
    "print(1)\n",
    "print(1,2)\n",
    "print(1,2,3)\n",
    "print(1,2,3,4)\n",
    "print(1,2,3,4,5)\n",
    "print(1,2,3,4,5,6)\n",
    "```"
   ]
  },
  {
   "cell_type": "code",
   "execution_count": 13,
   "metadata": {},
   "outputs": [
    {
     "name": "stdout",
     "output_type": "stream",
     "text": [
      "<class 'tuple'>\n",
      "<class 'tuple'>\n",
      "10\n",
      "30\n",
      "20\n",
      "40\n",
      "50\n",
      "60\n"
     ]
    }
   ],
   "source": [
    "# 파라티에 '*'를 붙이게 되면 호출하는 입장에서는 가변길이 인자로 인식하고 \n",
    "# 내부적으로는 튜플로 인식하게 됨니다.\n",
    "def print_test(*x):\n",
    "    print(type(x))\n",
    "    \n",
    "print_test(k)\n",
    "print_test(10,2)\n",
    "\n",
    "# =>\n",
    "\n",
    "def test2(*args):\n",
    "    for item in args:\n",
    "        print(item)\n",
    "test2(10,30,20,40,50,60)\n",
    "\n",
    "#관례적으로 args로 작성을 해주어야 합니다. "
   ]
  },
  {
   "cell_type": "markdown",
   "metadata": {},
   "source": [
    "### keyword parameter(키워드 파라미터)\n",
    "* _**_가 붙은 경우에는 키워드 파라미터로 인식\n",
    "* __함수 호출시, 파라미터의 이름과 값을 함께 전달가능__"
   ]
  },
  {
   "cell_type": "code",
   "execution_count": 17,
   "metadata": {},
   "outputs": [
    {
     "name": "stdout",
     "output_type": "stream",
     "text": [
      "key:  a  value:  1\n",
      "key:  korea  value:  seoul\n"
     ]
    }
   ],
   "source": [
    "def test2(**kwargs):\n",
    "    for key, v in kwargs.items():\n",
    "        print('key: ', key, ' value: ', v)\n",
    "test2(a =1 , korea= 'seoul')"
   ]
  },
  {
   "cell_type": "markdown",
   "metadata": {},
   "source": [
    "### format 함수\n",
    "* 가변길이 함수의 대표적인 예 **문자열 포맷함수**\n",
    "    * 여러가지 값과 포맷을 이용하여 문자열을 정의할 수 있는 함수\n",
    "    * {}placeholder를 문자열 내에 위치시키후, 해당 위치에 format함수로 전달된 밧으로 대체하여 문자열 생성"
   ]
  },
  {
   "cell_type": "code",
   "execution_count": 22,
   "metadata": {},
   "outputs": [
    {
     "name": "stdout",
     "output_type": "stream",
     "text": [
      "오늘 온도 :  30도, 강수 확률: 30%\n",
      "오늘 온도 :  30도, 강수 확률: 30%\n"
     ]
    }
   ],
   "source": [
    "sen = '오늘 온도 :  {}도, 강수 확률: {}%'.format(30,30)\n",
    "print(sen)\n",
    "sen2 = '오늘 온도 :  {a}도, 강수 확률: {b}%'.format(a=30,b=30)\n",
    "print(sen2)"
   ]
  },
  {
   "cell_type": "markdown",
   "metadata": {},
   "source": [
    "## 함수 이해 및 활용 - 04. 람다(lambda) 함수의 이해 및 사용하기\n"
   ]
  },
  {
   "cell_type": "code",
   "execution_count": null,
   "metadata": {},
   "outputs": [],
   "source": []
  }
 ],
 "metadata": {
  "kernelspec": {
   "display_name": "Python 3",
   "language": "python",
   "name": "python3"
  },
  "language_info": {
   "codemirror_mode": {
    "name": "ipython",
    "version": 3
   },
   "file_extension": ".py",
   "mimetype": "text/x-python",
   "name": "python",
   "nbconvert_exporter": "python",
   "pygments_lexer": "ipython3",
   "version": "3.7.3"
  }
 },
 "nbformat": 4,
 "nbformat_minor": 2
}
