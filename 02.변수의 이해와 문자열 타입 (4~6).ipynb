{
 "cells": [
  {
   "cell_type": "markdown",
   "metadata": {},
   "source": [
    "# 변수 이해하기 "
   ]
  },
  {
   "cell_type": "markdown",
   "metadata": {},
   "source": [
    "#### 변수라는 것은 무엇인가?\n",
    "- 한 메모리에 이름을 정함. 그것을 변수명을 지어준다고 함.  \n",
    "\n",
    "예를 들어)\n",
    "``` python\n",
    " a = 10\n",
    "```\n",
    "이라고 했을 때,  \n",
    "한 메모리 이름을 a라고 말하고 거기에 해당하는 값은 10이 되는 것 !"
   ]
  },
  {
   "cell_type": "markdown",
   "metadata": {},
   "source": [
    ">#### print()함수의 비밀\n",
    "```python\n",
    "print() #함수안에는 파라미터가 존재함.\n",
    "```\n",
    "- sep : 구분자, 각 출력할 변수사이에서 구별하는 역할을 함. \n",
    "- end : 마지막에 출력할 문자열 \n",
    "- (default) sep:  ,end:\\n\n",
    "\n",
    "```python\n",
    "print(1,2,3,4)\n",
    "print(3,5)\n",
    "\n",
    "print(1,2,3,sep='*',end='!!')\n",
    "```"
   ]
  },
  {
   "cell_type": "code",
   "execution_count": 10,
   "metadata": {},
   "outputs": [
    {
     "name": "stdout",
     "output_type": "stream",
     "text": [
      "1 2 3 4\n",
      "3 5\n"
     ]
    }
   ],
   "source": [
    "a =10 # print()함수는 output이 나오지 않음 \n",
    "\n",
    "print(1,2,3,4)\n",
    "print(3,5)"
   ]
  },
  {
   "cell_type": "code",
   "execution_count": 12,
   "metadata": {},
   "outputs": [
    {
     "name": "stdout",
     "output_type": "stream",
     "text": [
      "1*2*3!!5 6\n",
      "10\n"
     ]
    },
    {
     "data": {
      "text/plain": [
       "10"
      ]
     },
     "execution_count": 12,
     "metadata": {},
     "output_type": "execute_result"
    }
   ],
   "source": [
    "print(1,2,3,sep='*',end='!!')\n",
    "print(5,6)\n",
    "print(a)\n",
    "a"
   ]
  },
  {
   "cell_type": "markdown",
   "metadata": {},
   "source": [
    "#### 변수의 이름 짓기\n",
    "* 변수의 이름은 명시적인게 좋음(for협업)\n",
    "* 숫자 no"
   ]
  },
  {
   "cell_type": "markdown",
   "metadata": {},
   "source": [
    "### 5강 변수의 이해2"
   ]
  },
  {
   "cell_type": "markdown",
   "metadata": {},
   "source": [
    "#### type"
   ]
  },
  {
   "cell_type": "code",
   "execution_count": 13,
   "metadata": {},
   "outputs": [
    {
     "data": {
      "text/plain": [
       "int"
      ]
     },
     "execution_count": 13,
     "metadata": {},
     "output_type": "execute_result"
    }
   ],
   "source": [
    "type(a)"
   ]
  },
  {
   "cell_type": "markdown",
   "metadata": {},
   "source": [
    "#### None"
   ]
  },
  {
   "cell_type": "markdown",
   "metadata": {},
   "source": [
    "```python\n",
    "c = None\n",
    "```\n",
    "* 아무런 값을 갖지 않을 때, \n",
    "* 초기값 미정, \n",
    "* 기타 언어의 NULL, nil등과 같은 의미로 사요"
   ]
  },
  {
   "cell_type": "code",
   "execution_count": 16,
   "metadata": {},
   "outputs": [
    {
     "name": "stdout",
     "output_type": "stream",
     "text": [
      "None\n"
     ]
    }
   ],
   "source": [
    "c =None\n",
    "print(c)"
   ]
  },
  {
   "cell_type": "markdown",
   "metadata": {},
   "source": [
    "### 6강 문자열 타입의 이해 및 활용"
   ]
  },
  {
   "cell_type": "markdown",
   "metadata": {},
   "source": [
    "####  이스케이프 문자 \n",
    "\\n, \\t"
   ]
  },
  {
   "cell_type": "markdown",
   "metadata": {},
   "source": [
    "#### indexing & slicing string"
   ]
  },
  {
   "cell_type": "code",
   "execution_count": 22,
   "metadata": {},
   "outputs": [
    {
     "name": "stdout",
     "output_type": "stream",
     "text": [
      "H\n",
      "d\n",
      "ello Worl\n"
     ]
    }
   ],
   "source": [
    "a = 'Hello World' # 길이 : 11\n",
    "print(a[0]) # 0부터 시작 !\n",
    "print(a[-1])\n",
    "print(a[1:-1]) # 1<= (문자) < -1"
   ]
  },
  {
   "cell_type": "markdown",
   "metadata": {},
   "source": [
    "#### 문자열 함수\n",
    "\n",
    "**a.+ tab**\n",
    "```python\n",
    "a = 'hello world'\n",
    "a.upper()\n",
    "a\n",
    "\n",
    "out : 'HELLO WORLD'\n",
    "```"
   ]
  },
  {
   "cell_type": "markdown",
   "metadata": {},
   "source": [
    ">**자주 쓰는 문자열 함수들**\n",
    "* replace : 특정 문자를 변경\n",
    "* format  : 특정한 값을 변수로 부터 동적으로 문자열 생성가능\n",
    "* split   : 문자열을 특정한 문자 구분하여(delimiter)문자열의 리스트로 치환"
   ]
  },
  {
   "cell_type": "code",
   "execution_count": 24,
   "metadata": {},
   "outputs": [
    {
     "data": {
      "text/plain": [
       "'hekko workd'"
      ]
     },
     "execution_count": 24,
     "metadata": {},
     "output_type": "execute_result"
    }
   ],
   "source": [
    "a = 'hello world'\n",
    "a.replace('l', 'k')"
   ]
  },
  {
   "cell_type": "code",
   "execution_count": 31,
   "metadata": {},
   "outputs": [
    {
     "data": {
      "text/plain": [
       "'this is 10000.'"
      ]
     },
     "execution_count": 31,
     "metadata": {},
     "output_type": "execute_result"
    }
   ],
   "source": [
    "name = 'PBS'\n",
    "sentence = 'hello my name is {}'.format(name)\n",
    "sentence\n",
    "\n",
    "val = 10000\n",
    "sentence2 = 'this is {}.'\n",
    "sentence2.format(val)"
   ]
  },
  {
   "cell_type": "code",
   "execution_count": 35,
   "metadata": {},
   "outputs": [
    {
     "data": {
      "text/plain": [
       "['My', 'mother', 'is', 'pretty']"
      ]
     },
     "execution_count": 35,
     "metadata": {},
     "output_type": "execute_result"
    }
   ],
   "source": [
    "s3 = 'My mother is pretty'\n",
    "s3.split(' ')"
   ]
  }
 ],
 "metadata": {
  "kernelspec": {
   "display_name": "Python 3",
   "language": "python",
   "name": "python3"
  },
  "language_info": {
   "codemirror_mode": {
    "name": "ipython",
    "version": 3
   },
   "file_extension": ".py",
   "mimetype": "text/x-python",
   "name": "python",
   "nbconvert_exporter": "python",
   "pygments_lexer": "ipython3",
   "version": "3.7.3"
  }
 },
 "nbformat": 4,
 "nbformat_minor": 2
}
